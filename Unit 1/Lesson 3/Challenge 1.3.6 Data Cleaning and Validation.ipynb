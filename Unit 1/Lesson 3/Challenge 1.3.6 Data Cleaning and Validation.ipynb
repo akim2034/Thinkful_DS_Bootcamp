{
 "cells": [
  {
   "cell_type": "code",
   "execution_count": 1,
   "metadata": {
    "collapsed": true
   },
   "outputs": [],
   "source": [
    "import pandas as pd\n",
    "import numpy as np\n",
    "import matplotlib.pyplot as plt\n",
    "import seaborn as sns\n",
    "import re \n",
    "%matplotlib inline"
   ]
  },
  {
   "cell_type": "code",
   "execution_count": 38,
   "metadata": {
    "scrolled": true
   },
   "outputs": [
    {
     "data": {
      "text/html": [
       "<div>\n",
       "<style>\n",
       "    .dataframe thead tr:only-child th {\n",
       "        text-align: right;\n",
       "    }\n",
       "\n",
       "    .dataframe thead th {\n",
       "        text-align: left;\n",
       "    }\n",
       "\n",
       "    .dataframe tbody tr th {\n",
       "        vertical-align: top;\n",
       "    }\n",
       "</style>\n",
       "<table border=\"1\" class=\"dataframe\">\n",
       "  <thead>\n",
       "    <tr style=\"text-align: right;\">\n",
       "      <th></th>\n",
       "      <th>PMID/PMCID</th>\n",
       "      <th>Publisher</th>\n",
       "      <th>Journal title</th>\n",
       "      <th>Article title</th>\n",
       "      <th>Cost</th>\n",
       "    </tr>\n",
       "  </thead>\n",
       "  <tbody>\n",
       "    <tr>\n",
       "      <th>0</th>\n",
       "      <td>PMC3378987\\n</td>\n",
       "      <td>Elsevier</td>\n",
       "      <td>Academy of Nutrition and Dietetics</td>\n",
       "      <td>Parent support and parent mediated behaviours ...</td>\n",
       "      <td>£2379.54</td>\n",
       "    </tr>\n",
       "    <tr>\n",
       "      <th>1</th>\n",
       "      <td>PMCID: PMC3780468</td>\n",
       "      <td>ACS (Amercian Chemical Society) Publications</td>\n",
       "      <td>ACS Chemical Biology</td>\n",
       "      <td>A Novel Allosteric Inhibitor of the Uridine Di...</td>\n",
       "      <td>£1294.59</td>\n",
       "    </tr>\n",
       "    <tr>\n",
       "      <th>2</th>\n",
       "      <td>PMCID: PMC3621575</td>\n",
       "      <td>ACS (Amercian Chemical Society) Publications</td>\n",
       "      <td>ACS Chemical Biology</td>\n",
       "      <td>Chemical proteomic analysis reveals the drugab...</td>\n",
       "      <td>£1294.78</td>\n",
       "    </tr>\n",
       "    <tr>\n",
       "      <th>3</th>\n",
       "      <td>NaN</td>\n",
       "      <td>American Chemical Society</td>\n",
       "      <td>ACS Chemical Biology</td>\n",
       "      <td>Discovery of ?2 Adrenergic Receptor Ligands Us...</td>\n",
       "      <td>£947.07</td>\n",
       "    </tr>\n",
       "    <tr>\n",
       "      <th>4</th>\n",
       "      <td>PMID: 24015914 PMC3833349</td>\n",
       "      <td>American Chemical Society</td>\n",
       "      <td>ACS Chemical Biology</td>\n",
       "      <td>Discovery of an allosteric inhibitor binding s...</td>\n",
       "      <td>£1267.76</td>\n",
       "    </tr>\n",
       "  </tbody>\n",
       "</table>\n",
       "</div>"
      ],
      "text/plain": [
       "                   PMID/PMCID                                     Publisher  \\\n",
       "0                PMC3378987\\n                                      Elsevier   \n",
       "1           PMCID: PMC3780468  ACS (Amercian Chemical Society) Publications   \n",
       "2           PMCID: PMC3621575  ACS (Amercian Chemical Society) Publications   \n",
       "3                         NaN                     American Chemical Society   \n",
       "4  PMID: 24015914 PMC3833349                      American Chemical Society   \n",
       "\n",
       "                        Journal title  \\\n",
       "0  Academy of Nutrition and Dietetics   \n",
       "1                ACS Chemical Biology   \n",
       "2                ACS Chemical Biology   \n",
       "3                ACS Chemical Biology   \n",
       "4                ACS Chemical Biology   \n",
       "\n",
       "                                       Article title      Cost  \n",
       "0  Parent support and parent mediated behaviours ...  £2379.54  \n",
       "1  A Novel Allosteric Inhibitor of the Uridine Di...  £1294.59  \n",
       "2  Chemical proteomic analysis reveals the drugab...  £1294.78  \n",
       "3  Discovery of ?2 Adrenergic Receptor Ligands Us...   £947.07  \n",
       "4  Discovery of an allosteric inhibitor binding s...  £1267.76  "
      ]
     },
     "execution_count": 38,
     "metadata": {},
     "output_type": "execute_result"
    }
   ],
   "source": [
    "df = pd.read_csv('lesson.csv',encoding=\"iso-8859-1\")\n",
    "\n",
    "df.head()"
   ]
  },
  {
   "cell_type": "code",
   "execution_count": 40,
   "metadata": {},
   "outputs": [
    {
     "data": {
      "text/plain": [
       "(2127, 5)"
      ]
     },
     "execution_count": 40,
     "metadata": {},
     "output_type": "execute_result"
    }
   ],
   "source": [
    "df.shape"
   ]
  },
  {
   "cell_type": "code",
   "execution_count": 41,
   "metadata": {},
   "outputs": [
    {
     "data": {
      "text/html": [
       "<div>\n",
       "<style>\n",
       "    .dataframe thead tr:only-child th {\n",
       "        text-align: right;\n",
       "    }\n",
       "\n",
       "    .dataframe thead th {\n",
       "        text-align: left;\n",
       "    }\n",
       "\n",
       "    .dataframe tbody tr th {\n",
       "        vertical-align: top;\n",
       "    }\n",
       "</style>\n",
       "<table border=\"1\" class=\"dataframe\">\n",
       "  <thead>\n",
       "    <tr style=\"text-align: right;\">\n",
       "      <th></th>\n",
       "      <th>PMID/PMCID</th>\n",
       "      <th>Publisher</th>\n",
       "      <th>Journal title</th>\n",
       "      <th>Article title</th>\n",
       "      <th>Cost</th>\n",
       "    </tr>\n",
       "  </thead>\n",
       "  <tbody>\n",
       "    <tr>\n",
       "      <th>0</th>\n",
       "      <td>PMC3378987\\n</td>\n",
       "      <td>Elsevier</td>\n",
       "      <td>Academy of Nutrition and Dietetics</td>\n",
       "      <td>Parent support and parent mediated behaviours ...</td>\n",
       "      <td>£2379.54</td>\n",
       "    </tr>\n",
       "    <tr>\n",
       "      <th>1</th>\n",
       "      <td>PMCID: PMC3780468</td>\n",
       "      <td>ACS (Amercian Chemical Society) Publications</td>\n",
       "      <td>ACS Chemical Biology</td>\n",
       "      <td>A Novel Allosteric Inhibitor of the Uridine Di...</td>\n",
       "      <td>£1294.59</td>\n",
       "    </tr>\n",
       "    <tr>\n",
       "      <th>2</th>\n",
       "      <td>PMCID: PMC3621575</td>\n",
       "      <td>ACS (Amercian Chemical Society) Publications</td>\n",
       "      <td>ACS Chemical Biology</td>\n",
       "      <td>Chemical proteomic analysis reveals the drugab...</td>\n",
       "      <td>£1294.78</td>\n",
       "    </tr>\n",
       "    <tr>\n",
       "      <th>3</th>\n",
       "      <td>NaN</td>\n",
       "      <td>American Chemical Society</td>\n",
       "      <td>ACS Chemical Biology</td>\n",
       "      <td>Discovery of ?2 Adrenergic Receptor Ligands Us...</td>\n",
       "      <td>£947.07</td>\n",
       "    </tr>\n",
       "    <tr>\n",
       "      <th>4</th>\n",
       "      <td>PMID: 24015914 PMC3833349</td>\n",
       "      <td>American Chemical Society</td>\n",
       "      <td>ACS Chemical Biology</td>\n",
       "      <td>Discovery of an allosteric inhibitor binding s...</td>\n",
       "      <td>£1267.76</td>\n",
       "    </tr>\n",
       "  </tbody>\n",
       "</table>\n",
       "</div>"
      ],
      "text/plain": [
       "                   PMID/PMCID                                     Publisher  \\\n",
       "0                PMC3378987\\n                                      Elsevier   \n",
       "1           PMCID: PMC3780468  ACS (Amercian Chemical Society) Publications   \n",
       "2           PMCID: PMC3621575  ACS (Amercian Chemical Society) Publications   \n",
       "3                         NaN                     American Chemical Society   \n",
       "4  PMID: 24015914 PMC3833349                      American Chemical Society   \n",
       "\n",
       "                        Journal title  \\\n",
       "0  Academy of Nutrition and Dietetics   \n",
       "1                ACS Chemical Biology   \n",
       "2                ACS Chemical Biology   \n",
       "3                ACS Chemical Biology   \n",
       "4                ACS Chemical Biology   \n",
       "\n",
       "                                       Article title      Cost  \n",
       "0  Parent support and parent mediated behaviours ...  £2379.54  \n",
       "1  A Novel Allosteric Inhibitor of the Uridine Di...  £1294.59  \n",
       "2  Chemical proteomic analysis reveals the drugab...  £1294.78  \n",
       "3  Discovery of ?2 Adrenergic Receptor Ligands Us...   £947.07  \n",
       "4  Discovery of an allosteric inhibitor binding s...  £1267.76  "
      ]
     },
     "execution_count": 41,
     "metadata": {},
     "output_type": "execute_result"
    }
   ],
   "source": [
    "df.head()"
   ]
  },
  {
   "cell_type": "code",
   "execution_count": 66,
   "metadata": {
    "scrolled": true
   },
   "outputs": [
    {
     "data": {
      "text/html": [
       "<div>\n",
       "<style>\n",
       "    .dataframe thead tr:only-child th {\n",
       "        text-align: right;\n",
       "    }\n",
       "\n",
       "    .dataframe thead th {\n",
       "        text-align: left;\n",
       "    }\n",
       "\n",
       "    .dataframe tbody tr th {\n",
       "        vertical-align: top;\n",
       "    }\n",
       "</style>\n",
       "<table border=\"1\" class=\"dataframe\">\n",
       "  <thead>\n",
       "    <tr style=\"text-align: right;\">\n",
       "      <th></th>\n",
       "      <th>Publisher</th>\n",
       "      <th>Journal title</th>\n",
       "      <th>Article title</th>\n",
       "      <th>Cost</th>\n",
       "    </tr>\n",
       "  </thead>\n",
       "  <tbody>\n",
       "    <tr>\n",
       "      <th>1</th>\n",
       "      <td>ACS (Amercian Chemical Society) Publications</td>\n",
       "      <td>ACS Chemical Biology</td>\n",
       "      <td>A Novel Allosteric Inhibitor of the Uridine Di...</td>\n",
       "      <td>£1294.59</td>\n",
       "    </tr>\n",
       "    <tr>\n",
       "      <th>2</th>\n",
       "      <td>ACS (Amercian Chemical Society) Publications</td>\n",
       "      <td>ACS Chemical Biology</td>\n",
       "      <td>Chemical proteomic analysis reveals the drugab...</td>\n",
       "      <td>£1294.78</td>\n",
       "    </tr>\n",
       "    <tr>\n",
       "      <th>3</th>\n",
       "      <td>American Chemical Society</td>\n",
       "      <td>ACS Chemical Biology</td>\n",
       "      <td>Discovery of ?2 Adrenergic Receptor Ligands Us...</td>\n",
       "      <td>£947.07</td>\n",
       "    </tr>\n",
       "    <tr>\n",
       "      <th>4</th>\n",
       "      <td>American Chemical Society</td>\n",
       "      <td>ACS Chemical Biology</td>\n",
       "      <td>Discovery of an allosteric inhibitor binding s...</td>\n",
       "      <td>£1267.76</td>\n",
       "    </tr>\n",
       "    <tr>\n",
       "      <th>5</th>\n",
       "      <td>American Chemical Society</td>\n",
       "      <td>ACS Chemical Biology</td>\n",
       "      <td>Synthesis of alpha-glucan in mycobacteria invo...</td>\n",
       "      <td>£2286.73</td>\n",
       "    </tr>\n",
       "  </tbody>\n",
       "</table>\n",
       "</div>"
      ],
      "text/plain": [
       "                                      Publisher         Journal title  \\\n",
       "1  ACS (Amercian Chemical Society) Publications  ACS Chemical Biology   \n",
       "2  ACS (Amercian Chemical Society) Publications  ACS Chemical Biology   \n",
       "3                     American Chemical Society  ACS Chemical Biology   \n",
       "4                     American Chemical Society  ACS Chemical Biology   \n",
       "5                     American Chemical Society  ACS Chemical Biology   \n",
       "\n",
       "                                       Article title      Cost  \n",
       "1  A Novel Allosteric Inhibitor of the Uridine Di...  £1294.59  \n",
       "2  Chemical proteomic analysis reveals the drugab...  £1294.78  \n",
       "3  Discovery of ?2 Adrenergic Receptor Ligands Us...   £947.07  \n",
       "4  Discovery of an allosteric inhibitor binding s...  £1267.76  \n",
       "5  Synthesis of alpha-glucan in mycobacteria invo...  £2286.73  "
      ]
     },
     "execution_count": 66,
     "metadata": {},
     "output_type": "execute_result"
    }
   ],
   "source": [
    "doc = df[['Publisher', 'Journal title','Article title', 'Cost']].sort_values('Journal title', ascending=True).head()\n",
    "\n",
    "doc.head()"
   ]
  },
  {
   "cell_type": "code",
   "execution_count": 67,
   "metadata": {},
   "outputs": [
    {
     "data": {
      "text/html": [
       "<div>\n",
       "<style>\n",
       "    .dataframe thead tr:only-child th {\n",
       "        text-align: right;\n",
       "    }\n",
       "\n",
       "    .dataframe thead th {\n",
       "        text-align: left;\n",
       "    }\n",
       "\n",
       "    .dataframe tbody tr th {\n",
       "        vertical-align: top;\n",
       "    }\n",
       "</style>\n",
       "<table border=\"1\" class=\"dataframe\">\n",
       "  <thead>\n",
       "    <tr style=\"text-align: right;\">\n",
       "      <th></th>\n",
       "      <th>Journal title</th>\n",
       "      <th>Count</th>\n",
       "    </tr>\n",
       "  </thead>\n",
       "  <tbody>\n",
       "    <tr>\n",
       "      <th>0</th>\n",
       "      <td>ACS Chemical Biology</td>\n",
       "      <td>5</td>\n",
       "    </tr>\n",
       "  </tbody>\n",
       "</table>\n",
       "</div>"
      ],
      "text/plain": [
       "          Journal title  Count\n",
       "0  ACS Chemical Biology      5"
      ]
     },
     "execution_count": 67,
     "metadata": {},
     "output_type": "execute_result"
    }
   ],
   "source": [
    "journal_doc = doc.groupby('Journal title').count().reset_index()[['Journal title', 'Article title']]\n",
    "journal_doc.columns = ['Journal title', 'Count']\n",
    "journal_doc = journal_doc.sort_values('Journal title', ascending=False)\n",
    "\n",
    "journal_doc"
   ]
  },
  {
   "cell_type": "code",
   "execution_count": 62,
   "metadata": {},
   "outputs": [
    {
     "ename": "TypeError",
     "evalue": "distplot() got an unexpected keyword argument 'x'",
     "output_type": "error",
     "traceback": [
      "\u001b[1;31m---------------------------------------------------------------------------\u001b[0m",
      "\u001b[1;31mTypeError\u001b[0m                                 Traceback (most recent call last)",
      "\u001b[1;32m<ipython-input-62-77697e1186e8>\u001b[0m in \u001b[0;36m<module>\u001b[1;34m()\u001b[0m\n\u001b[1;32m----> 1\u001b[1;33m \u001b[0msns\u001b[0m\u001b[1;33m.\u001b[0m\u001b[0mdistplot\u001b[0m\u001b[1;33m(\u001b[0m\u001b[0mx\u001b[0m\u001b[1;33m=\u001b[0m\u001b[1;34m\"Cost\"\u001b[0m\u001b[1;33m,\u001b[0m \u001b[0mdata\u001b[0m\u001b[1;33m=\u001b[0m\u001b[0mdf\u001b[0m\u001b[1;33m)\u001b[0m\u001b[1;33m;\u001b[0m\u001b[1;33m\u001b[0m\u001b[0m\n\u001b[0m",
      "\u001b[1;31mTypeError\u001b[0m: distplot() got an unexpected keyword argument 'x'"
     ]
    }
   ],
   "source": [
    "sns.distplot(x=\"Cost\", data=df);"
   ]
  },
  {
   "cell_type": "code",
   "execution_count": null,
   "metadata": {
    "collapsed": true
   },
   "outputs": [],
   "source": []
  }
 ],
 "metadata": {
  "kernelspec": {
   "display_name": "Python 3",
   "language": "python",
   "name": "python3"
  },
  "language_info": {
   "codemirror_mode": {
    "name": "ipython",
    "version": 3
   },
   "file_extension": ".py",
   "mimetype": "text/x-python",
   "name": "python",
   "nbconvert_exporter": "python",
   "pygments_lexer": "ipython3",
   "version": "3.6.3"
  }
 },
 "nbformat": 4,
 "nbformat_minor": 2
}
