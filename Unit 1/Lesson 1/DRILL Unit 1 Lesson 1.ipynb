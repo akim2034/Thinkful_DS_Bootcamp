{
 "cells": [
  {
   "cell_type": "markdown",
   "metadata": {},
   "source": [
    "# What can data science do?"
   ]
  },
  {
   "cell_type": "markdown",
   "metadata": {},
   "source": [
    "### **1. E-commerce company: Which product** (i.e. widgets, doodads, fizzbangs) **should we feature in our new advertising campaign?**\n",
    "\n",
    "**Step 1: Understand the data**\n",
    "To gauge what we are working with, gather information on the volume, conversion rate and margins for each product: \n",
    "* *Volume*: What is individuals' activity on websites, page views and purchases for each product? This will help us understand the magnitude of the traffic and activity and help us identify areas of greatest opportunity. \n",
    "* *Conversion Rate*: What is the conversion to purchases for each product? While driving great traffic online for a product is great, the better measure of success for an ad is at which rate it is bringing in revenue. \n",
    "* *Margins*: What are the margins for each product? By subtracting the cost from price for each product, we get the margins. The margins help us add another level of dynamics to measure which product will provide the most optimal returns. \n",
    "\n",
    "**Step 2: Leverage metrics to analyze and determine which product has the highest returns**\n",
    "After gathering information from step 1, in a perfect world you would find out which produt has the highest volume of purchases, conversion rate and margins and recommend that product be featured on the next ad campaign. \n",
    "However, in most cases there will be more complexity involved. The guideline here is not to make a decision based on insights drawn from each metric in isolation. But use these formulas to analyze for deeper insights for each product. \n",
    "\n",
    "* Volume X Margins: tells you how much money you are bringing in for that product. In isolation, you may think that the product with the highest number of purchases is the one to recommend. And vice versa, you may think that the product with the better margin is the one to pick. However, when you leverage the relationship of both metrics, your decision may change. \n",
    "    * For example, widgets may have had 10,000 purchases whereas fizzbangs had 1,000. Initially, you would have recommended widgets based on the higher volume of purchases. However, you find out that widgets had margins of \\$10 per unit where as fizzbangs had \\$1000, which means through widgets we made \\$100,000 compared to \\$1,000,000 from fizzbangs. Had you not gone a step further, you would have made a recommendation that made a significantly less amount in profit! \n",
    "* Conversion Rates: the rates give insights on how effective is each is. While it may be easy to dismiss an ad that leads to a low conversion rate, it is important to acknowledge that ads with the lowest conversion rate also provides the most opportunity. By digging a little deeper, you may find insights that guide you towards one nudge you can make to increase traffic significantly. \n",
    "\n",
    "**Step 3: Make a recommendation**\n",
    "Finally, after gathering the data and analyzing it, make a recommendation to the head of advertising. Explain your key methodology, findings and limitations to help the decision maker absorb the context and thought process. Collaborate with the the leader to see if there are next steps for analysis to come to a better solution."
   ]
  },
  {
   "cell_type": "markdown",
   "metadata": {},
   "source": [
    "### 2. Web-design company: Why have sign-ups slowed?\n",
    "\n",
    "onboarding funnel has three steps: email and pw signups, plan choice and payment\n",
    "for each user there is info on: which steps they have completed, timestamps, FOR the past 3 years\n",
    "marketing spend on a weekly level\n",
    "\n",
    "First, I would find the conversion rate at each point (i.e. before signups go into plan choice and plan choice goes into payment) to **find out at which point there is the greatest drop**. That point might shed insight about areas of opportunity. Second, I would see how long it took on average for a user to convert from one step to another. This will give us information on **where to focus to create better efficiencies**. Maybe customers are not converting from signups to plan choice because the initial step is too complicated. Or maybe the plan choice page is not clear and customers are dropping out before payment because they are confused. This could lead to info to investigate further on why customer are having trouble on the pages - perhaps through **surveys or focus groups**. And lastly, since we have information about users' behavior over the past 3 years, we can connect this data with the weekly marketing spend over the past 3 years (if this data is available) and conduct a study that allows us to see and assess the effectiveness of previous marketing initiatives. \n",
    "\n",
    "Through this information, we could better understand why sign-ups have slowed down and provide a recommendation with which step to focus on in the funneling channels and how to budget spend and timing and ways to improve engagement for each page. "
   ]
  },
  {
   "cell_type": "markdown",
   "metadata": {},
   "source": [
    "### 3. Hotel website company: How do we create a better ranking system? \n",
    "\n",
    "Currently: website ranks hotels by price\n",
    "\n",
    "In this case, I would find out other quality features of the hotel and provide options on the website for the user to filter using those features (i.e. bed size, smoking/non-smoking, floor with a view, etc...). Also, along with quality features, because we have info about the location of each hotel; this could also be a feature to filter through for the users. \n",
    "\n",
    "Lastly, I am unsure of what is included in a session information. If it includes information about how users interact with our website, that data could help us provide recommendation systems for our users. By analyzing what a user is searching for and comparing with hotels that past users who had similar searches selected, it help set rankings that are better tailored to the user."
   ]
  },
  {
   "cell_type": "markdown",
   "metadata": {},
   "source": [
    "### 4. Social network company: Is our churn atypical?\n",
    "\n",
    "I would first assess the churn rate for the past three years and the attributes for the users who left, such as user type, their activity, the amount of time spent on our site. Based on that, I would compare it to the attributes of the users who left in the last three months. I would compare churn rate, user attributes, "
   ]
  }
 ],
 "metadata": {
  "kernelspec": {
   "display_name": "Python 3",
   "language": "python",
   "name": "python3"
  },
  "language_info": {
   "codemirror_mode": {
    "name": "ipython",
    "version": 3
   },
   "file_extension": ".py",
   "mimetype": "text/x-python",
   "name": "python",
   "nbconvert_exporter": "python",
   "pygments_lexer": "ipython3",
   "version": "3.6.3"
  }
 },
 "nbformat": 4,
 "nbformat_minor": 2
}
