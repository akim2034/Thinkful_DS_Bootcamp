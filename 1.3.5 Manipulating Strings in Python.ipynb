{
 "cells": [
  {
   "cell_type": "code",
   "execution_count": 25,
   "metadata": {},
   "outputs": [
    {
     "name": "stdout",
     "output_type": "stream",
     "text": [
      "True\n"
     ]
    }
   ],
   "source": [
    "import pandas as pd\n",
    "import numpy as np\n",
    "import matplotlib.pyplot as plt\n",
    "import seaborn as sns\n",
    "%matplotlib inline\n",
    "\n",
    "sample_string = \"take 5\"\n",
    "print(sample_string[5:].isalnum())"
   ]
  },
  {
   "cell_type": "code",
   "execution_count": 30,
   "metadata": {},
   "outputs": [
    {
     "name": "stdout",
     "output_type": "stream",
     "text": [
      "0     True\n",
      "1     True\n",
      "2    False\n",
      "3     True\n",
      "4    False\n",
      "dtype: bool\n"
     ]
    }
   ],
   "source": [
    "# Create a series of dirty, annoying values.\n",
    "money = pd.Series([400, 111, '$20', 57, 'Lots'])\n",
    "\n",
    "# Running `money.isdigit()` throws an error because .isdigit() is a string\n",
    "# attribute, _not_ a series attribute. Uncomment the line below to see.\n",
    "\n",
    "#print(money.isdigit())\n",
    "\n",
    "# Instead, let's define a new function that takes a string as an argument\n",
    "# and returns True if the string is all digits, otherwise False.\n",
    "\n",
    "def is_a_string(x):\n",
    "    # First make sure we're operating on a string, then use our string method.\n",
    "    return str(x).isdigit()\n",
    "\n",
    "# Now let's apply our custom function to each element in our series.\n",
    "print(money.apply(is_a_string))"
   ]
  }
 ],
 "metadata": {
  "kernelspec": {
   "display_name": "Python 3",
   "language": "python",
   "name": "python3"
  },
  "language_info": {
   "codemirror_mode": {
    "name": "ipython",
    "version": 3
   },
   "file_extension": ".py",
   "mimetype": "text/x-python",
   "name": "python",
   "nbconvert_exporter": "python",
   "pygments_lexer": "ipython3",
   "version": "3.6.3"
  }
 },
 "nbformat": 4,
 "nbformat_minor": 2
}
